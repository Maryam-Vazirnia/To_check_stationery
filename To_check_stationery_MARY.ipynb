{
 "cells": [
  {
   "cell_type": "markdown",
   "id": "4c0f7f25-fbd2-4b80-9c57-91e1b74f8d32",
   "metadata": {},
   "source": [
    "# Functions to check stationarity\n",
    "\n",
    "In this notebook, we want to check the stationarity of the data using the adf method. <br>\n",
    "\n",
    "$ADF (Augmented Dickey-Fuller)$ test: It is used to check the stationarity of the data, if the $p-value$  is less than $0.05$, we can say with $95%$ confidence that the time series is stationary.<br>\n",
    "A simple example for $p-value$ :<br>\n",
    "We have two pledges. The first group takes special vitamin tablets and the second group does not. Question: Is the average weight of two groups equal? <br>\n",
    "Null hypothesis: The average weight of two groups is equal. Now we will calculate the p value, if the p value is less than $0.05$, it means that the Null hypothesis is wrong and the mean weight is not equal.<br>\n",
    "Here, in fact, in the $(ADF)$ test, the null hypothesis: the time series is unstable and $non-stationary$.\n",
    " So, if $p-value$ is less than the significant level (which is usually $0.05$), we can reject the null hypothesis and conclude that the time series has stationary properties.<br>\n",
    "3 different functions which are actually the same are presented here. You can use the desired function according to the output type."
   ]
  },
  {
   "cell_type": "code",
   "execution_count": 1,
   "id": "e9cc58c5-3e39-4324-9a78-0241f7996f76",
   "metadata": {},
   "outputs": [],
   "source": [
    "import numpy as np\n",
    "import statsmodels.api as sm\n",
    "import pandas as pd\n",
    "from statsmodels.tsa.stattools import adfuller, acf\n",
    "import matplotlib.pyplot as plt\n"
   ]
  },
  {
   "cell_type": "code",
   "execution_count": 2,
   "id": "377c54b6-7e28-445b-bb8b-a67979e4ad0d",
   "metadata": {},
   "outputs": [],
   "source": [
    "def FirstـTest(time_series):\n",
    "    adf_result = adfuller(time_series)\n",
    "    p_value = adf_result[1]\n",
    "    is_stationary = p_value < 0.05\n",
    "    print(\"p_value : \" , p_value)\n",
    "    print(f\"Second-order stationarity: {'Yes' if is_stationary else 'No'}\")\n",
    "    return is_stationary"
   ]
  },
  {
   "cell_type": "code",
   "execution_count": 3,
   "id": "d6195dc9-950d-4075-91e2-7ecd0c4407c4",
   "metadata": {},
   "outputs": [],
   "source": [
    "def Second_Test(timeseries):\n",
    "    result = adfuller(timeseries, autolag='AIC')\n",
    "    print('ADF Statistic:', result[0])\n",
    "    print('p-value:', result[1])\n",
    "    print('Critical Values:')\n",
    "    for key, value in result[4].items():\n",
    "        print(f'    {key}: {value}')\n",
    "\n",
    "    if result[1] < 0.05:\n",
    "        print(\"The time series is stationary (reject the null hypothesis).\")\n",
    "    else:\n",
    "        print(\"The time series is not stationary (fail to reject the null hypothesis).\")"
   ]
  },
  {
   "cell_type": "code",
   "execution_count": 4,
   "id": "db8cf7ac-c6ed-4ea8-88be-706a56932498",
   "metadata": {},
   "outputs": [],
   "source": [
    "def Third_Test(timeseries):\n",
    "    dftest = adfuller(timeseries, autolag='AIC')\n",
    "    p_value = dftest[1]\n",
    "    return p_value"
   ]
  },
  {
   "cell_type": "code",
   "execution_count": 5,
   "id": "e9998bab-03b2-4d43-bd9c-df239578f4b9",
   "metadata": {},
   "outputs": [],
   "source": [
    "np.random.seed(0)\n",
    "#data = np.random.randn(100)\n",
    "#data = np.random.uniform(1,100,10000)\n",
    "data = np.random.normal(loc=0, scale=1, size=10000)\n",
    "#data = [-3,-2,-1,0,1,2,3,4,5,6]\n",
    "#data =  [3, 5, 7, 9, 11,12,15,23,54,23,12,43]\n",
    "# Load the dataset\n",
    "# df = pd.read_csv('your data')                               # 'QUOTAS_3only.csv'\n",
    "# df = df[(df != 0).all(axis=1) & df.notna().all(axis=1)]     # Remove rows that contain zeros or are empty\n",
    "# print(df.columns)\n",
    "#data = df['The name of the column in your data'].values      #'log_lbol' , 'log_bh'"
   ]
  },
  {
   "cell_type": "code",
   "execution_count": 6,
   "id": "ce36e220-1b21-4b8b-800f-db6fbe2d73f0",
   "metadata": {},
   "outputs": [
    {
     "name": "stdout",
     "output_type": "stream",
     "text": [
      "p_value :  0.0\n",
      "Second-order stationarity: Yes\n"
     ]
    },
    {
     "data": {
      "text/plain": [
       "True"
      ]
     },
     "execution_count": 6,
     "metadata": {},
     "output_type": "execute_result"
    }
   ],
   "source": [
    "#data = pd.Series(data)\n",
    "FirstـTest(data)"
   ]
  },
  {
   "cell_type": "code",
   "execution_count": 7,
   "id": "ebb5f31a-a403-4cc6-9f69-2972a75519f6",
   "metadata": {},
   "outputs": [
    {
     "name": "stdout",
     "output_type": "stream",
     "text": [
      "ADF Statistic: -99.49026786274287\n",
      "p-value: 0.0\n",
      "Critical Values:\n",
      "    1%: -3.4310041633725734\n",
      "    5%: -2.861829101294412\n",
      "    10%: -2.566923883481157\n",
      "The time series is stationary (reject the null hypothesis).\n"
     ]
    }
   ],
   "source": [
    "Second_Test(data)"
   ]
  },
  {
   "cell_type": "code",
   "execution_count": 8,
   "id": "3073518a-a818-403d-a885-6c5307d730ec",
   "metadata": {},
   "outputs": [
    {
     "name": "stdout",
     "output_type": "stream",
     "text": [
      "The dataset is stationary (p-value = 0.0 )\n"
     ]
    },
    {
     "data": {
      "text/plain": [
       "0.0"
      ]
     },
     "execution_count": 8,
     "metadata": {},
     "output_type": "execute_result"
    }
   ],
   "source": [
    "p_value = Third_Test(data)\n",
    "if p_value < 0.05:\n",
    "    print(\"The dataset is stationary (p-value =\", p_value, \")\")\n",
    "else:\n",
    "    print(\"The dataset is not stationary (p-value =\", p_value, \")\")\n",
    "\n",
    "Third_Test(data)"
   ]
  },
  {
   "cell_type": "code",
   "execution_count": null,
   "id": "7cd22fd4-c494-48e2-94e6-5714595acf05",
   "metadata": {},
   "outputs": [],
   "source": [
    "\n"
   ]
  },
  {
   "cell_type": "code",
   "execution_count": null,
   "id": "84c7e57d-b388-4629-b143-96e9618e71e4",
   "metadata": {},
   "outputs": [],
   "source": []
  }
 ],
 "metadata": {
  "kernelspec": {
   "display_name": "Python 3 (ipykernel)",
   "language": "python",
   "name": "python3"
  },
  "language_info": {
   "codemirror_mode": {
    "name": "ipython",
    "version": 3
   },
   "file_extension": ".py",
   "mimetype": "text/x-python",
   "name": "python",
   "nbconvert_exporter": "python",
   "pygments_lexer": "ipython3",
   "version": "3.10.12"
  }
 },
 "nbformat": 4,
 "nbformat_minor": 5
}
